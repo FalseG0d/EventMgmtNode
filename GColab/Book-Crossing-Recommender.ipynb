{
 "cells": [
  {
   "cell_type": "code",
   "execution_count": 1,
   "metadata": {
    "id": "yu69HLNtRkwz"
   },
   "outputs": [],
   "source": [
    "import pandas as pd\n",
    "import numpy as np\n",
    "import matplotlib.pyplot as plt\n",
    "import pickle\n",
    "import warnings\n",
    "warnings.filterwarnings('ignore')\n",
    "plt.style.use('seaborn-white') \n",
    "plt.rcParams.update({'font.size': 15}) \n",
    "%matplotlib inline"
   ]
  },
  {
   "cell_type": "code",
   "execution_count": null,
   "metadata": {
    "colab": {
     "base_uri": "https://localhost:8080/"
    },
    "executionInfo": {
     "elapsed": 7459,
     "status": "ok",
     "timestamp": 1608974669876,
     "user": {
      "displayName": "Swapnil Agarwal",
      "photoUrl": "https://lh3.googleusercontent.com/a-/AOh14GjiKjcRShCAT-GU-ZW-2Rxt41sd0aJyM6ME2xdqzno=s64",
      "userId": "08492220740212217759"
     },
     "user_tz": -330
    },
    "id": "wM1qnjFKntn5",
    "outputId": "6b56c2c9-07d1-4cf7-93d1-7cff9c9c2fc7"
   },
   "outputs": [],
   "source": [
    "!pip install scikit-surprise"
   ]
  },
  {
   "cell_type": "code",
   "execution_count": null,
   "metadata": {
    "id": "hbIQ8CFCRkw0"
   },
   "outputs": [],
   "source": [
    "users = pd.read_csv('BX-Users.csv', sep=';')\n",
    "books = pd.read_csv('BX-Books.csv', sep=';')\n",
    "book_ratings = pd.read_csv('BX-Book-Ratings.csv', sep=';')"
   ]
  },
  {
   "cell_type": "code",
   "execution_count": null,
   "metadata": {
    "colab": {
     "base_uri": "https://localhost:8080/",
     "height": 195
    },
    "executionInfo": {
     "elapsed": 10901,
     "status": "ok",
     "timestamp": 1608974673348,
     "user": {
      "displayName": "Swapnil Agarwal",
      "photoUrl": "https://lh3.googleusercontent.com/a-/AOh14GjiKjcRShCAT-GU-ZW-2Rxt41sd0aJyM6ME2xdqzno=s64",
      "userId": "08492220740212217759"
     },
     "user_tz": -330
    },
    "id": "yXEyDh9FRkw1",
    "outputId": "b38fa286-3ccb-4151-fcab-c4e94e042922"
   },
   "outputs": [],
   "source": [
    "users.head()"
   ]
  },
  {
   "cell_type": "code",
   "execution_count": null,
   "metadata": {
    "colab": {
     "base_uri": "https://localhost:8080/",
     "height": 417
    },
    "executionInfo": {
     "elapsed": 10889,
     "status": "ok",
     "timestamp": 1608974673349,
     "user": {
      "displayName": "Swapnil Agarwal",
      "photoUrl": "https://lh3.googleusercontent.com/a-/AOh14GjiKjcRShCAT-GU-ZW-2Rxt41sd0aJyM6ME2xdqzno=s64",
      "userId": "08492220740212217759"
     },
     "user_tz": -330
    },
    "id": "44xaHIj3Rkw2",
    "outputId": "c9232cc2-48af-414f-ac94-0441518c6757"
   },
   "outputs": [],
   "source": [
    "books.head()"
   ]
  },
  {
   "cell_type": "code",
   "execution_count": null,
   "metadata": {
    "colab": {
     "base_uri": "https://localhost:8080/",
     "height": 195
    },
    "executionInfo": {
     "elapsed": 10878,
     "status": "ok",
     "timestamp": 1608974673351,
     "user": {
      "displayName": "Swapnil Agarwal",
      "photoUrl": "https://lh3.googleusercontent.com/a-/AOh14GjiKjcRShCAT-GU-ZW-2Rxt41sd0aJyM6ME2xdqzno=s64",
      "userId": "08492220740212217759"
     },
     "user_tz": -330
    },
    "id": "wja-UunfRkw3",
    "outputId": "80a5e287-1322-4962-ab75-ef6bc42e743b"
   },
   "outputs": [],
   "source": [
    "book_ratings.head()"
   ]
  },
  {
   "cell_type": "code",
   "execution_count": null,
   "metadata": {
    "colab": {
     "base_uri": "https://localhost:8080/"
    },
    "executionInfo": {
     "elapsed": 10873,
     "status": "ok",
     "timestamp": 1608974673356,
     "user": {
      "displayName": "Swapnil Agarwal",
      "photoUrl": "https://lh3.googleusercontent.com/a-/AOh14GjiKjcRShCAT-GU-ZW-2Rxt41sd0aJyM6ME2xdqzno=s64",
      "userId": "08492220740212217759"
     },
     "user_tz": -330
    },
    "id": "dJeFCNF1Rkw3",
    "outputId": "d8d466c4-77e5-468a-d8ab-35a98e135fbb"
   },
   "outputs": [],
   "source": [
    "print(f'Users: {len(users)}\\nBooks: {len(books)}\\nRatings: {len(book_ratings)}')"
   ]
  },
  {
   "cell_type": "code",
   "execution_count": null,
   "metadata": {
    "colab": {
     "base_uri": "https://localhost:8080/",
     "height": 195
    },
    "executionInfo": {
     "elapsed": 10862,
     "status": "ok",
     "timestamp": 1608974673358,
     "user": {
      "displayName": "Swapnil Agarwal",
      "photoUrl": "https://lh3.googleusercontent.com/a-/AOh14GjiKjcRShCAT-GU-ZW-2Rxt41sd0aJyM6ME2xdqzno=s64",
      "userId": "08492220740212217759"
     },
     "user_tz": -330
    },
    "id": "mGcrsteHRkw4",
    "outputId": "98f2697b-0c55-47cb-fa1b-b7476b3722f8"
   },
   "outputs": [],
   "source": [
    "users.columns = users.columns.str.strip().str.lower().str.replace('-', '_')\n",
    "users.head()"
   ]
  },
  {
   "cell_type": "code",
   "execution_count": null,
   "metadata": {
    "colab": {
     "base_uri": "https://localhost:8080/"
    },
    "executionInfo": {
     "elapsed": 10853,
     "status": "ok",
     "timestamp": 1608974673359,
     "user": {
      "displayName": "Swapnil Agarwal",
      "photoUrl": "https://lh3.googleusercontent.com/a-/AOh14GjiKjcRShCAT-GU-ZW-2Rxt41sd0aJyM6ME2xdqzno=s64",
      "userId": "08492220740212217759"
     },
     "user_tz": -330
    },
    "id": "SSN0wxJ2Rkw5",
    "outputId": "4979f543-503e-497b-e2eb-01d9a22dad25"
   },
   "outputs": [],
   "source": [
    "users.dtypes"
   ]
  },
  {
   "cell_type": "code",
   "execution_count": null,
   "metadata": {
    "colab": {
     "base_uri": "https://localhost:8080/"
    },
    "executionInfo": {
     "elapsed": 10846,
     "status": "ok",
     "timestamp": 1608974673361,
     "user": {
      "displayName": "Swapnil Agarwal",
      "photoUrl": "https://lh3.googleusercontent.com/a-/AOh14GjiKjcRShCAT-GU-ZW-2Rxt41sd0aJyM6ME2xdqzno=s64",
      "userId": "08492220740212217759"
     },
     "user_tz": -330
    },
    "id": "0sjY3_aORkw5",
    "outputId": "c1fe6cc0-346d-43bb-92f2-6375ade4183b"
   },
   "outputs": [],
   "source": [
    "uniq_users = users.user_id.nunique()\n",
    "all_users = users.user_id.count()\n",
    "print(f'No. of unique user_id entries: {uniq_users} | Total user_id entries: {all_users}')"
   ]
  },
  {
   "cell_type": "code",
   "execution_count": null,
   "metadata": {
    "colab": {
     "base_uri": "https://localhost:8080/"
    },
    "executionInfo": {
     "elapsed": 10839,
     "status": "ok",
     "timestamp": 1608974673364,
     "user": {
      "displayName": "Swapnil Agarwal",
      "photoUrl": "https://lh3.googleusercontent.com/a-/AOh14GjiKjcRShCAT-GU-ZW-2Rxt41sd0aJyM6ME2xdqzno=s64",
      "userId": "08492220740212217759"
     },
     "user_tz": -330
    },
    "id": "IK6K4abJRkw6",
    "outputId": "a2a0b074-7e51-440c-db29-5e302ebcdb3b"
   },
   "outputs": [],
   "source": [
    "print(sorted(users.age.unique()))"
   ]
  },
  {
   "cell_type": "code",
   "execution_count": null,
   "metadata": {
    "id": "6YBRyxKHRkw6"
   },
   "outputs": [],
   "source": [
    "users.loc[(users.age<5) | (users.age>100), 'age'] = np.nan"
   ]
  },
  {
   "cell_type": "code",
   "execution_count": null,
   "metadata": {
    "colab": {
     "base_uri": "https://localhost:8080/",
     "height": 195
    },
    "executionInfo": {
     "elapsed": 10824,
     "status": "ok",
     "timestamp": 1608974673369,
     "user": {
      "displayName": "Swapnil Agarwal",
      "photoUrl": "https://lh3.googleusercontent.com/a-/AOh14GjiKjcRShCAT-GU-ZW-2Rxt41sd0aJyM6ME2xdqzno=s64",
      "userId": "08492220740212217759"
     },
     "user_tz": -330
    },
    "id": "A-krr4wjRkw6",
    "outputId": "8ebca16e-67f1-4c99-8c7e-e062f5b5f42f"
   },
   "outputs": [],
   "source": [
    "users.head()"
   ]
  },
  {
   "cell_type": "code",
   "execution_count": null,
   "metadata": {
    "colab": {
     "base_uri": "https://localhost:8080/"
    },
    "executionInfo": {
     "elapsed": 10816,
     "status": "ok",
     "timestamp": 1608974673371,
     "user": {
      "displayName": "Swapnil Agarwal",
      "photoUrl": "https://lh3.googleusercontent.com/a-/AOh14GjiKjcRShCAT-GU-ZW-2Rxt41sd0aJyM6ME2xdqzno=s64",
      "userId": "08492220740212217759"
     },
     "user_tz": -330
    },
    "id": "Co3m4O5BRkw7",
    "outputId": "3e356ad0-7265-419c-c2db-6792bf545aa0"
   },
   "outputs": [],
   "source": [
    "print(sorted(users.age.unique()))"
   ]
  },
  {
   "cell_type": "code",
   "execution_count": null,
   "metadata": {
    "colab": {
     "base_uri": "https://localhost:8080/",
     "height": 330
    },
    "executionInfo": {
     "elapsed": 10804,
     "status": "ok",
     "timestamp": 1608974673372,
     "user": {
      "displayName": "Swapnil Agarwal",
      "photoUrl": "https://lh3.googleusercontent.com/a-/AOh14GjiKjcRShCAT-GU-ZW-2Rxt41sd0aJyM6ME2xdqzno=s64",
      "userId": "08492220740212217759"
     },
     "user_tz": -330
    },
    "id": "gCkPMzUSRkw7",
    "outputId": "f06221c9-a799-4837-e59b-dd665a0a7a9c"
   },
   "outputs": [],
   "source": [
    "ax = users.age.hist(bins=10, figsize=(12,5))\n",
    "ax.set_xlabel('Age')\n",
    "ax.set_ylabel('counts')\n",
    "ax.set_xticks(range(0,110,10))\n",
    "plt.show()"
   ]
  },
  {
   "cell_type": "code",
   "execution_count": null,
   "metadata": {
    "colab": {
     "base_uri": "https://localhost:8080/",
     "height": 610
    },
    "executionInfo": {
     "elapsed": 11693,
     "status": "ok",
     "timestamp": 1608974674272,
     "user": {
      "displayName": "Swapnil Agarwal",
      "photoUrl": "https://lh3.googleusercontent.com/a-/AOh14GjiKjcRShCAT-GU-ZW-2Rxt41sd0aJyM6ME2xdqzno=s64",
      "userId": "08492220740212217759"
     },
     "user_tz": -330
    },
    "id": "r9LHWbr-Rkw8",
    "outputId": "17945322-36e5-4ed6-aa76-bb63725dbfd8"
   },
   "outputs": [],
   "source": [
    "u = users.age.value_counts().sort_index()\n",
    "plt.figure(figsize=(20, 10))\n",
    "plt.rcParams.update({'font.size': 15})\n",
    "plt.bar(u.index, u.values)\n",
    "plt.xlabel('Age')\n",
    "plt.ylabel('counts')\n",
    "plt.show()"
   ]
  },
  {
   "cell_type": "code",
   "execution_count": null,
   "metadata": {
    "colab": {
     "base_uri": "https://localhost:8080/"
    },
    "executionInfo": {
     "elapsed": 11690,
     "status": "ok",
     "timestamp": 1608974674277,
     "user": {
      "displayName": "Swapnil Agarwal",
      "photoUrl": "https://lh3.googleusercontent.com/a-/AOh14GjiKjcRShCAT-GU-ZW-2Rxt41sd0aJyM6ME2xdqzno=s64",
      "userId": "08492220740212217759"
     },
     "user_tz": -330
    },
    "id": "8AD26KobRkw8",
    "outputId": "96846e3a-cede-4996-def4-7795f26a0da3"
   },
   "outputs": [],
   "source": [
    "age_null = users.age.isnull().sum()\n",
    "all_users = users.user_id.count()\n",
    "print(f'There are {age_null} empty age values in our set of {all_users} users (or {(age_null/all_users)*100:.2f}%).')"
   ]
  },
  {
   "cell_type": "code",
   "execution_count": null,
   "metadata": {
    "id": "LGaOTBrRRkw9"
   },
   "outputs": [],
   "source": [
    "user_location_expanded = users.location.str.split(',', 2, expand=True)\n",
    "user_location_expanded.columns = ['city', 'state', 'country']\n",
    "users = users.join(user_location_expanded)"
   ]
  },
  {
   "cell_type": "code",
   "execution_count": null,
   "metadata": {
    "colab": {
     "base_uri": "https://localhost:8080/",
     "height": 195
    },
    "executionInfo": {
     "elapsed": 12527,
     "status": "ok",
     "timestamp": 1608974675129,
     "user": {
      "displayName": "Swapnil Agarwal",
      "photoUrl": "https://lh3.googleusercontent.com/a-/AOh14GjiKjcRShCAT-GU-ZW-2Rxt41sd0aJyM6ME2xdqzno=s64",
      "userId": "08492220740212217759"
     },
     "user_tz": -330
    },
    "id": "6hAU_xaERkw9",
    "outputId": "a765ab33-cae0-47ed-d966-272db9f62630"
   },
   "outputs": [],
   "source": [
    "users.drop(columns=['location'], inplace=True)\n",
    "users.head()"
   ]
  },
  {
   "cell_type": "code",
   "execution_count": null,
   "metadata": {
    "colab": {
     "base_uri": "https://localhost:8080/"
    },
    "executionInfo": {
     "elapsed": 12520,
     "status": "ok",
     "timestamp": 1608974675132,
     "user": {
      "displayName": "Swapnil Agarwal",
      "photoUrl": "https://lh3.googleusercontent.com/a-/AOh14GjiKjcRShCAT-GU-ZW-2Rxt41sd0aJyM6ME2xdqzno=s64",
      "userId": "08492220740212217759"
     },
     "user_tz": -330
    },
    "id": "4iL-7rxxRkw-",
    "outputId": "e665e291-80af-41f2-9ae2-3f1d15997888"
   },
   "outputs": [],
   "source": [
    "top_cities = users.city.value_counts()[:10]\n",
    "print(f'The 10 cities with the most users are:\\n{top_cities}')"
   ]
  },
  {
   "cell_type": "code",
   "execution_count": null,
   "metadata": {
    "colab": {
     "base_uri": "https://localhost:8080/"
    },
    "executionInfo": {
     "elapsed": 12512,
     "status": "ok",
     "timestamp": 1608974675133,
     "user": {
      "displayName": "Swapnil Agarwal",
      "photoUrl": "https://lh3.googleusercontent.com/a-/AOh14GjiKjcRShCAT-GU-ZW-2Rxt41sd0aJyM6ME2xdqzno=s64",
      "userId": "08492220740212217759"
     },
     "user_tz": -330
    },
    "id": "5v2EdJT0Rkw-",
    "outputId": "3ff566a6-a7ef-45ae-c51d-3166cae4f7c4"
   },
   "outputs": [],
   "source": [
    "top_countries = users.country.value_counts()[:10]\n",
    "print(f'The 10 countries with the most users are:\\n{top_countries}')"
   ]
  },
  {
   "cell_type": "code",
   "execution_count": null,
   "metadata": {
    "colab": {
     "base_uri": "https://localhost:8080/"
    },
    "executionInfo": {
     "elapsed": 12504,
     "status": "ok",
     "timestamp": 1608974675136,
     "user": {
      "displayName": "Swapnil Agarwal",
      "photoUrl": "https://lh3.googleusercontent.com/a-/AOh14GjiKjcRShCAT-GU-ZW-2Rxt41sd0aJyM6ME2xdqzno=s64",
      "userId": "08492220740212217759"
     },
     "user_tz": -330
    },
    "id": "NosHN790Rkw-",
    "outputId": "5cda564a-d3f6-44da-8a4d-e35667f998c5"
   },
   "outputs": [],
   "source": [
    "empty_string_country = users[users.country == ''].country.count()\n",
    "nan_country = users.country.isnull().sum()\n",
    "print(f'There are {empty_string_country} entries with empty strings, and {nan_country} NaN entries in the Country field')"
   ]
  },
  {
   "cell_type": "code",
   "execution_count": null,
   "metadata": {
    "id": "nS6xJWpHRkw_"
   },
   "outputs": [],
   "source": [
    "users.country.replace('', np.nan, inplace=True)"
   ]
  },
  {
   "cell_type": "code",
   "execution_count": null,
   "metadata": {
    "colab": {
     "base_uri": "https://localhost:8080/",
     "height": 417
    },
    "executionInfo": {
     "elapsed": 12497,
     "status": "ok",
     "timestamp": 1608974675146,
     "user": {
      "displayName": "Swapnil Agarwal",
      "photoUrl": "https://lh3.googleusercontent.com/a-/AOh14GjiKjcRShCAT-GU-ZW-2Rxt41sd0aJyM6ME2xdqzno=s64",
      "userId": "08492220740212217759"
     },
     "user_tz": -330
    },
    "id": "i9TDwLoLRkw_",
    "outputId": "6c81f6a4-11ec-4ce5-f6e3-319ec3afdd34"
   },
   "outputs": [],
   "source": [
    "books.head()"
   ]
  },
  {
   "cell_type": "code",
   "execution_count": null,
   "metadata": {
    "colab": {
     "base_uri": "https://localhost:8080/",
     "height": 195
    },
    "executionInfo": {
     "elapsed": 12493,
     "status": "ok",
     "timestamp": 1608974675154,
     "user": {
      "displayName": "Swapnil Agarwal",
      "photoUrl": "https://lh3.googleusercontent.com/a-/AOh14GjiKjcRShCAT-GU-ZW-2Rxt41sd0aJyM6ME2xdqzno=s64",
      "userId": "08492220740212217759"
     },
     "user_tz": -330
    },
    "id": "CKQ3JFB9RkxA",
    "outputId": "417a6ef6-4a8a-42a5-f27a-e116ed1f2777"
   },
   "outputs": [],
   "source": [
    "books.columns = books.columns.str.strip().str.lower().str.replace('-', '_')\n",
    "books.drop(columns=['image_url_s', 'image_url_m', 'image_url_l'], inplace=True)\n",
    "books.head()"
   ]
  },
  {
   "cell_type": "code",
   "execution_count": null,
   "metadata": {
    "colab": {
     "base_uri": "https://localhost:8080/"
    },
    "executionInfo": {
     "elapsed": 12487,
     "status": "ok",
     "timestamp": 1608974675156,
     "user": {
      "displayName": "Swapnil Agarwal",
      "photoUrl": "https://lh3.googleusercontent.com/a-/AOh14GjiKjcRShCAT-GU-ZW-2Rxt41sd0aJyM6ME2xdqzno=s64",
      "userId": "08492220740212217759"
     },
     "user_tz": -330
    },
    "id": "aX8_gOejRkxA",
    "outputId": "852037ff-e582-469d-dd9d-1a5ff709fcdc"
   },
   "outputs": [],
   "source": [
    "books.dtypes"
   ]
  },
  {
   "cell_type": "code",
   "execution_count": null,
   "metadata": {
    "id": "-NxQ7NYBRkxE"
   },
   "outputs": [],
   "source": [
    "# Convert years to float\n",
    "books.year_of_publication = pd.to_numeric(books.year_of_publication, errors='coerce')"
   ]
  },
  {
   "cell_type": "code",
   "execution_count": null,
   "metadata": {
    "colab": {
     "base_uri": "https://localhost:8080/"
    },
    "executionInfo": {
     "elapsed": 12477,
     "status": "ok",
     "timestamp": 1608974675160,
     "user": {
      "displayName": "Swapnil Agarwal",
      "photoUrl": "https://lh3.googleusercontent.com/a-/AOh14GjiKjcRShCAT-GU-ZW-2Rxt41sd0aJyM6ME2xdqzno=s64",
      "userId": "08492220740212217759"
     },
     "user_tz": -330
    },
    "id": "zeY0C5vuRkxF",
    "outputId": "8c73ae66-c461-4233-ef6b-2338c49f6e39"
   },
   "outputs": [],
   "source": [
    "\n",
    "zero_yr = books[books.year_of_publication == 0].year_of_publication.count()\n",
    "nan_yr = books.year_of_publication.isnull().sum()\n",
    "print(f'There are {zero_yr} entries as \\'0\\', and {nan_yr} NaN entries in the Year of Publication field')"
   ]
  },
  {
   "cell_type": "code",
   "execution_count": null,
   "metadata": {
    "id": "08UGM1x6RkxG"
   },
   "outputs": [],
   "source": [
    "books.year_of_publication.replace(0, np.nan, inplace=True)"
   ]
  },
  {
   "cell_type": "code",
   "execution_count": null,
   "metadata": {
    "colab": {
     "base_uri": "https://localhost:8080/",
     "height": 610
    },
    "executionInfo": {
     "elapsed": 16231,
     "status": "ok",
     "timestamp": 1608974678929,
     "user": {
      "displayName": "Swapnil Agarwal",
      "photoUrl": "https://lh3.googleusercontent.com/a-/AOh14GjiKjcRShCAT-GU-ZW-2Rxt41sd0aJyM6ME2xdqzno=s64",
      "userId": "08492220740212217759"
     },
     "user_tz": -330
    },
    "id": "km8b4dlFRkxG",
    "outputId": "64aa6322-be5c-4963-f994-46726b75a20f"
   },
   "outputs": [],
   "source": [
    "yr = books.year_of_publication.value_counts().sort_index()\n",
    "yr = yr.where(yr>5) \n",
    "plt.figure(figsize=(20, 10))\n",
    "plt.rcParams.update({'font.size': 15}) \n",
    "plt.bar(yr.index, yr.values)\n",
    "plt.xlabel('Year of Publication')\n",
    "plt.ylabel('counts')\n",
    "plt.show()"
   ]
  },
  {
   "cell_type": "code",
   "execution_count": null,
   "metadata": {
    "colab": {
     "base_uri": "https://localhost:8080/"
    },
    "executionInfo": {
     "elapsed": 16225,
     "status": "ok",
     "timestamp": 1608974678931,
     "user": {
      "displayName": "Swapnil Agarwal",
      "photoUrl": "https://lh3.googleusercontent.com/a-/AOh14GjiKjcRShCAT-GU-ZW-2Rxt41sd0aJyM6ME2xdqzno=s64",
      "userId": "08492220740212217759"
     },
     "user_tz": -330
    },
    "id": "m7tXcJV4RkxG",
    "outputId": "6e2bee24-d728-4caf-9a79-7ddadbc90a05"
   },
   "outputs": [],
   "source": [
    "historical_books = books[books.year_of_publication<1900] \n",
    "books_from_the_future = books[books.year_of_publication>2018] \n",
    "\n",
    "hist_books_mini = historical_books[['book_title', 'year_of_publication']]\n",
    "future_books_mini = books_from_the_future[['book_title', 'year_of_publication']]\n",
    "print(f'Historical books:\\n{hist_books_mini}')\n",
    "print('\\n')\n",
    "print(f'Future books:\\n{future_books_mini}')"
   ]
  },
  {
   "cell_type": "code",
   "execution_count": null,
   "metadata": {
    "colab": {
     "base_uri": "https://localhost:8080/"
    },
    "executionInfo": {
     "elapsed": 16219,
     "status": "ok",
     "timestamp": 1608974678934,
     "user": {
      "displayName": "Swapnil Agarwal",
      "photoUrl": "https://lh3.googleusercontent.com/a-/AOh14GjiKjcRShCAT-GU-ZW-2Rxt41sd0aJyM6ME2xdqzno=s64",
      "userId": "08492220740212217759"
     },
     "user_tz": -330
    },
    "id": "3P67U8udRkxH",
    "outputId": "9bd6c8c8-74d0-48f1-f2b0-5f0eb4f20aa8"
   },
   "outputs": [],
   "source": [
    "print(f'Length of books dataset before removal: {len(books)}')\n",
    "books = books.loc[~(books.isbn.isin(historical_books.isbn))] \n",
    "books = books.loc[~(books.isbn.isin(books_from_the_future.isbn))] \n",
    "print(f'Length of books dataset after removal: {len(books)}')"
   ]
  },
  {
   "cell_type": "code",
   "execution_count": null,
   "metadata": {
    "colab": {
     "base_uri": "https://localhost:8080/",
     "height": 195
    },
    "executionInfo": {
     "elapsed": 16213,
     "status": "ok",
     "timestamp": 1608974678937,
     "user": {
      "displayName": "Swapnil Agarwal",
      "photoUrl": "https://lh3.googleusercontent.com/a-/AOh14GjiKjcRShCAT-GU-ZW-2Rxt41sd0aJyM6ME2xdqzno=s64",
      "userId": "08492220740212217759"
     },
     "user_tz": -330
    },
    "id": "Zh-TCN-BRkxH",
    "outputId": "567e8ead-4486-4cda-ec80-1755966fa86a"
   },
   "outputs": [],
   "source": [
    "books.publisher = books.publisher.str.replace('&amp', '&', regex=False)\n",
    "books.head()"
   ]
  },
  {
   "cell_type": "code",
   "execution_count": null,
   "metadata": {
    "colab": {
     "base_uri": "https://localhost:8080/"
    },
    "executionInfo": {
     "elapsed": 16207,
     "status": "ok",
     "timestamp": 1608974678939,
     "user": {
      "displayName": "Swapnil Agarwal",
      "photoUrl": "https://lh3.googleusercontent.com/a-/AOh14GjiKjcRShCAT-GU-ZW-2Rxt41sd0aJyM6ME2xdqzno=s64",
      "userId": "08492220740212217759"
     },
     "user_tz": -330
    },
    "id": "5A4zlMqmRkxI",
    "outputId": "3878b079-9bb6-4d18-b032-1c26e3df4295"
   },
   "outputs": [],
   "source": [
    "uniq_books = books.isbn.nunique()\n",
    "all_books = books.isbn.count()\n",
    "print(f'No. of unique books: {uniq_books} | All book entries: {all_books}')"
   ]
  },
  {
   "cell_type": "code",
   "execution_count": null,
   "metadata": {
    "colab": {
     "base_uri": "https://localhost:8080/"
    },
    "executionInfo": {
     "elapsed": 16199,
     "status": "ok",
     "timestamp": 1608974678940,
     "user": {
      "displayName": "Swapnil Agarwal",
      "photoUrl": "https://lh3.googleusercontent.com/a-/AOh14GjiKjcRShCAT-GU-ZW-2Rxt41sd0aJyM6ME2xdqzno=s64",
      "userId": "08492220740212217759"
     },
     "user_tz": -330
    },
    "id": "Q6WjfOacRkxI",
    "outputId": "10cbe38e-f00b-4222-c8ea-6e2f7b5b1def"
   },
   "outputs": [],
   "source": [
    "top_publishers = books.publisher.value_counts()[:10]\n",
    "print(f'The 10 publishers with the most entries in the books table are:\\n{top_publishers}')"
   ]
  },
  {
   "cell_type": "code",
   "execution_count": null,
   "metadata": {
    "colab": {
     "base_uri": "https://localhost:8080/"
    },
    "executionInfo": {
     "elapsed": 16189,
     "status": "ok",
     "timestamp": 1608974678941,
     "user": {
      "displayName": "Swapnil Agarwal",
      "photoUrl": "https://lh3.googleusercontent.com/a-/AOh14GjiKjcRShCAT-GU-ZW-2Rxt41sd0aJyM6ME2xdqzno=s64",
      "userId": "08492220740212217759"
     },
     "user_tz": -330
    },
    "id": "gjf-nYNBRkxJ",
    "outputId": "c2bdc399-9b20-41b7-f398-9ff11618a6b7"
   },
   "outputs": [],
   "source": [
    "top_authors = books.book_author.value_counts()[:10]\n",
    "print(f'The 10 authors with the most entries in the books table are:\\n{top_authors}')"
   ]
  },
  {
   "cell_type": "code",
   "execution_count": null,
   "metadata": {
    "colab": {
     "base_uri": "https://localhost:8080/"
    },
    "executionInfo": {
     "elapsed": 16182,
     "status": "ok",
     "timestamp": 1608974678943,
     "user": {
      "displayName": "Swapnil Agarwal",
      "photoUrl": "https://lh3.googleusercontent.com/a-/AOh14GjiKjcRShCAT-GU-ZW-2Rxt41sd0aJyM6ME2xdqzno=s64",
      "userId": "08492220740212217759"
     },
     "user_tz": -330
    },
    "id": "RmIcsQNHRkxJ",
    "outputId": "67fc1168-29d1-4622-9128-88b5b09db4d4"
   },
   "outputs": [],
   "source": [
    "empty_string_publisher = books[books.publisher == ''].publisher.count()\n",
    "nan_publisher = books.publisher.isnull().sum()\n",
    "print(f'There are {empty_string_publisher} entries with empty strings, and {nan_publisher} NaN entries in the Publisher field')"
   ]
  },
  {
   "cell_type": "code",
   "execution_count": null,
   "metadata": {
    "colab": {
     "base_uri": "https://localhost:8080/"
    },
    "executionInfo": {
     "elapsed": 16175,
     "status": "ok",
     "timestamp": 1608974678945,
     "user": {
      "displayName": "Swapnil Agarwal",
      "photoUrl": "https://lh3.googleusercontent.com/a-/AOh14GjiKjcRShCAT-GU-ZW-2Rxt41sd0aJyM6ME2xdqzno=s64",
      "userId": "08492220740212217759"
     },
     "user_tz": -330
    },
    "id": "gmz-WlbpRkxK",
    "outputId": "ff3fe961-524a-4380-a065-076bcfac703b"
   },
   "outputs": [],
   "source": [
    "empty_string_author = books[books.book_author == ''].book_author.count()\n",
    "nan_author = books.book_author.isnull().sum()\n",
    "print(f'There are {empty_string_author} entries with empty strings, and {nan_author} NaN entries in the Author field')"
   ]
  },
  {
   "cell_type": "code",
   "execution_count": null,
   "metadata": {
    "colab": {
     "base_uri": "https://localhost:8080/"
    },
    "executionInfo": {
     "elapsed": 16167,
     "status": "ok",
     "timestamp": 1608974678946,
     "user": {
      "displayName": "Swapnil Agarwal",
      "photoUrl": "https://lh3.googleusercontent.com/a-/AOh14GjiKjcRShCAT-GU-ZW-2Rxt41sd0aJyM6ME2xdqzno=s64",
      "userId": "08492220740212217759"
     },
     "user_tz": -330
    },
    "id": "SG9IQcTeRkxK",
    "outputId": "d5e84914-e2c4-4c31-ec80-1f32d0bd8927"
   },
   "outputs": [],
   "source": [
    "top_titles = books.book_title.value_counts()[:10]\n",
    "print(f'The 10 book titles with the most entries in the books table are:\\n{top_titles}')"
   ]
  },
  {
   "cell_type": "code",
   "execution_count": null,
   "metadata": {
    "colab": {
     "base_uri": "https://localhost:8080/",
     "height": 610
    },
    "executionInfo": {
     "elapsed": 16160,
     "status": "ok",
     "timestamp": 1608974678947,
     "user": {
      "displayName": "Swapnil Agarwal",
      "photoUrl": "https://lh3.googleusercontent.com/a-/AOh14GjiKjcRShCAT-GU-ZW-2Rxt41sd0aJyM6ME2xdqzno=s64",
      "userId": "08492220740212217759"
     },
     "user_tz": -330
    },
    "id": "wrNJmNhXRkxL",
    "outputId": "518e00ed-18e8-4996-b813-d860ace91023"
   },
   "outputs": [],
   "source": [
    "books[books.book_title=='Jane Eyre']"
   ]
  },
  {
   "cell_type": "code",
   "execution_count": null,
   "metadata": {
    "colab": {
     "base_uri": "https://localhost:8080/",
     "height": 195
    },
    "executionInfo": {
     "elapsed": 16154,
     "status": "ok",
     "timestamp": 1608974678950,
     "user": {
      "displayName": "Swapnil Agarwal",
      "photoUrl": "https://lh3.googleusercontent.com/a-/AOh14GjiKjcRShCAT-GU-ZW-2Rxt41sd0aJyM6ME2xdqzno=s64",
      "userId": "08492220740212217759"
     },
     "user_tz": -330
    },
    "id": "uMGpC6gVRkxL",
    "outputId": "19d088e2-1a1d-47ba-d335-38fde74c15f8"
   },
   "outputs": [],
   "source": [
    "book_ratings.columns = book_ratings.columns.str.strip().str.lower().str.replace('-', '_')\n",
    "book_ratings.head()"
   ]
  },
  {
   "cell_type": "code",
   "execution_count": null,
   "metadata": {
    "colab": {
     "base_uri": "https://localhost:8080/"
    },
    "executionInfo": {
     "elapsed": 16148,
     "status": "ok",
     "timestamp": 1608974678952,
     "user": {
      "displayName": "Swapnil Agarwal",
      "photoUrl": "https://lh3.googleusercontent.com/a-/AOh14GjiKjcRShCAT-GU-ZW-2Rxt41sd0aJyM6ME2xdqzno=s64",
      "userId": "08492220740212217759"
     },
     "user_tz": -330
    },
    "id": "CR6bxEqARkxM",
    "outputId": "5210f129-756b-4201-b2a7-d1233e7e129f"
   },
   "outputs": [],
   "source": [
    "book_ratings.dtypes"
   ]
  },
  {
   "cell_type": "code",
   "execution_count": null,
   "metadata": {
    "colab": {
     "base_uri": "https://localhost:8080/"
    },
    "executionInfo": {
     "elapsed": 16889,
     "status": "ok",
     "timestamp": 1608974679701,
     "user": {
      "displayName": "Swapnil Agarwal",
      "photoUrl": "https://lh3.googleusercontent.com/a-/AOh14GjiKjcRShCAT-GU-ZW-2Rxt41sd0aJyM6ME2xdqzno=s64",
      "userId": "08492220740212217759"
     },
     "user_tz": -330
    },
    "id": "jBt4frDyRkxM",
    "outputId": "5289acd6-bd59-4985-8763-eabf8a3c5df5"
   },
   "outputs": [],
   "source": [
    "super_users = book_ratings.groupby('user_id').isbn.count().sort_values(ascending=False)\n",
    "print(f'The 20 users with the most ratings:\\n{super_users[:20]}')"
   ]
  },
  {
   "cell_type": "code",
   "execution_count": null,
   "metadata": {
    "colab": {
     "base_uri": "https://localhost:8080/",
     "height": 284
    },
    "executionInfo": {
     "elapsed": 16883,
     "status": "ok",
     "timestamp": 1608974679704,
     "user": {
      "displayName": "Swapnil Agarwal",
      "photoUrl": "https://lh3.googleusercontent.com/a-/AOh14GjiKjcRShCAT-GU-ZW-2Rxt41sd0aJyM6ME2xdqzno=s64",
      "userId": "08492220740212217759"
     },
     "user_tz": -330
    },
    "id": "6cJRLUndRkxM",
    "outputId": "252c12e0-16da-4c11-fa9c-4b445be052b3"
   },
   "outputs": [],
   "source": [
    "user_hist = super_users.where(super_users<50)\n",
    "user_hist.hist(bins=30)\n",
    "plt.xlabel('No. of ratings')\n",
    "plt.ylabel('count')\n",
    "plt.show()"
   ]
  },
  {
   "cell_type": "code",
   "execution_count": null,
   "metadata": {
    "colab": {
     "base_uri": "https://localhost:8080/",
     "height": 284
    },
    "executionInfo": {
     "elapsed": 16876,
     "status": "ok",
     "timestamp": 1608974679706,
     "user": {
      "displayName": "Swapnil Agarwal",
      "photoUrl": "https://lh3.googleusercontent.com/a-/AOh14GjiKjcRShCAT-GU-ZW-2Rxt41sd0aJyM6ME2xdqzno=s64",
      "userId": "08492220740212217759"
     },
     "user_tz": -330
    },
    "id": "4bersbyZRkxN",
    "outputId": "04d00c8d-b3af-4637-e4ea-51dfdeddd3d8"
   },
   "outputs": [],
   "source": [
    "super_user_hist = super_users.where(super_users>1000)\n",
    "super_user_hist.hist(bins=30)\n",
    "plt.xlabel('No. of ratings (min. 1000)')\n",
    "plt.ylabel('count')\n",
    "plt.show()"
   ]
  },
  {
   "cell_type": "code",
   "execution_count": null,
   "metadata": {
    "colab": {
     "base_uri": "https://localhost:8080/",
     "height": 338
    },
    "executionInfo": {
     "elapsed": 16869,
     "status": "ok",
     "timestamp": 1608974679707,
     "user": {
      "displayName": "Swapnil Agarwal",
      "photoUrl": "https://lh3.googleusercontent.com/a-/AOh14GjiKjcRShCAT-GU-ZW-2Rxt41sd0aJyM6ME2xdqzno=s64",
      "userId": "08492220740212217759"
     },
     "user_tz": -330
    },
    "id": "3SzSVUOhRkxN",
    "outputId": "44ce4995-20be-469d-a9d6-2ee7537ef356"
   },
   "outputs": [],
   "source": [
    "rtg = book_ratings.book_rating.value_counts().sort_index()\n",
    "\n",
    "plt.figure(figsize=(10, 5))\n",
    "plt.rcParams.update({'font.size': 15}) \n",
    "plt.bar(rtg.index, rtg.values)\n",
    "plt.xlabel('Rating')\n",
    "plt.ylabel('counts')\n",
    "plt.show()"
   ]
  },
  {
   "cell_type": "code",
   "execution_count": null,
   "metadata": {
    "colab": {
     "base_uri": "https://localhost:8080/"
    },
    "executionInfo": {
     "elapsed": 16864,
     "status": "ok",
     "timestamp": 1608974679710,
     "user": {
      "displayName": "Swapnil Agarwal",
      "photoUrl": "https://lh3.googleusercontent.com/a-/AOh14GjiKjcRShCAT-GU-ZW-2Rxt41sd0aJyM6ME2xdqzno=s64",
      "userId": "08492220740212217759"
     },
     "user_tz": -330
    },
    "id": "Jqbldk4zRkxO",
    "outputId": "743c7e60-b113-4866-8740-a2edce5afc50"
   },
   "outputs": [],
   "source": [
    "print(f'Size of book_ratings before removing zero ratings: {len(book_ratings)}')\n",
    "book_ratings = book_ratings[book_ratings.book_rating != 0]\n",
    "print(f'Size of book_ratings after removing zero ratings: {len(book_ratings)}')"
   ]
  },
  {
   "cell_type": "code",
   "execution_count": null,
   "metadata": {
    "colab": {
     "base_uri": "https://localhost:8080/",
     "height": 338
    },
    "executionInfo": {
     "elapsed": 16856,
     "status": "ok",
     "timestamp": 1608974679711,
     "user": {
      "displayName": "Swapnil Agarwal",
      "photoUrl": "https://lh3.googleusercontent.com/a-/AOh14GjiKjcRShCAT-GU-ZW-2Rxt41sd0aJyM6ME2xdqzno=s64",
      "userId": "08492220740212217759"
     },
     "user_tz": -330
    },
    "id": "5c8FwqC4RkxO",
    "outputId": "ad48527e-0dc5-4f58-b827-9dabb581d005"
   },
   "outputs": [],
   "source": [
    "rtg = book_ratings.book_rating.value_counts().sort_index()\n",
    "\n",
    "plt.figure(figsize=(10, 5))\n",
    "plt.rcParams.update({'font.size': 15}) \n",
    "plt.bar(rtg.index, rtg.values)\n",
    "plt.xlabel('Rating')\n",
    "plt.ylabel('counts')\n",
    "plt.show()"
   ]
  },
  {
   "cell_type": "code",
   "execution_count": null,
   "metadata": {
    "colab": {
     "base_uri": "https://localhost:8080/"
    },
    "executionInfo": {
     "elapsed": 16853,
     "status": "ok",
     "timestamp": 1608974679716,
     "user": {
      "displayName": "Swapnil Agarwal",
      "photoUrl": "https://lh3.googleusercontent.com/a-/AOh14GjiKjcRShCAT-GU-ZW-2Rxt41sd0aJyM6ME2xdqzno=s64",
      "userId": "08492220740212217759"
     },
     "user_tz": -330
    },
    "id": "dR_vAZkvRkxP",
    "outputId": "a9b0d799-a63f-4139-f090-7ed852bdf498"
   },
   "outputs": [],
   "source": [
    "print(f'Books table size: {len(books)}')\n",
    "print(f'Ratings table size: {len(book_ratings)}')\n",
    "books_with_ratings = book_ratings.join(books.set_index('isbn'), on='isbn')\n",
    "print(f'New table size: {len(books_with_ratings)}')"
   ]
  },
  {
   "cell_type": "code",
   "execution_count": null,
   "metadata": {
    "colab": {
     "base_uri": "https://localhost:8080/",
     "height": 195
    },
    "executionInfo": {
     "elapsed": 16842,
     "status": "ok",
     "timestamp": 1608974679718,
     "user": {
      "displayName": "Swapnil Agarwal",
      "photoUrl": "https://lh3.googleusercontent.com/a-/AOh14GjiKjcRShCAT-GU-ZW-2Rxt41sd0aJyM6ME2xdqzno=s64",
      "userId": "08492220740212217759"
     },
     "user_tz": -330
    },
    "id": "zlplIQmiRkxQ",
    "outputId": "9f7fd5ac-5ae4-493b-e98a-c9e50d200237"
   },
   "outputs": [],
   "source": [
    "books_with_ratings.head()"
   ]
  },
  {
   "cell_type": "code",
   "execution_count": null,
   "metadata": {
    "colab": {
     "base_uri": "https://localhost:8080/"
    },
    "executionInfo": {
     "elapsed": 16835,
     "status": "ok",
     "timestamp": 1608974679719,
     "user": {
      "displayName": "Swapnil Agarwal",
      "photoUrl": "https://lh3.googleusercontent.com/a-/AOh14GjiKjcRShCAT-GU-ZW-2Rxt41sd0aJyM6ME2xdqzno=s64",
      "userId": "08492220740212217759"
     },
     "user_tz": -330
    },
    "id": "im14_cJcRkxQ",
    "outputId": "25878689-c17c-44c5-9e78-ec39caf54b5e"
   },
   "outputs": [],
   "source": [
    "print(f'There are {books_with_ratings.book_title.isnull().sum()} books with no title/author information.')\n",
    "print(f'This represents {len(books_with_ratings)/books_with_ratings.book_title.isnull().sum():.2f}% of the ratings dataset.')"
   ]
  },
  {
   "cell_type": "code",
   "execution_count": null,
   "metadata": {
    "colab": {
     "base_uri": "https://localhost:8080/"
    },
    "executionInfo": {
     "elapsed": 16825,
     "status": "ok",
     "timestamp": 1608974679720,
     "user": {
      "displayName": "Swapnil Agarwal",
      "photoUrl": "https://lh3.googleusercontent.com/a-/AOh14GjiKjcRShCAT-GU-ZW-2Rxt41sd0aJyM6ME2xdqzno=s64",
      "userId": "08492220740212217759"
     },
     "user_tz": -330
    },
    "id": "EMjt9dNzRkxQ",
    "outputId": "7c033c48-93ea-44c8-f033-95a55f83e7ca"
   },
   "outputs": [],
   "source": [
    "books_with_ratings.info()"
   ]
  },
  {
   "cell_type": "code",
   "execution_count": null,
   "metadata": {
    "id": "PM8N0ncLRkxR"
   },
   "outputs": [],
   "source": [
    "books_with_ratings.dropna(subset=['book_title'], inplace=True) # remove rows with missing title/author data"
   ]
  },
  {
   "cell_type": "code",
   "execution_count": null,
   "metadata": {
    "colab": {
     "base_uri": "https://localhost:8080/",
     "height": 740
    },
    "executionInfo": {
     "elapsed": 18508,
     "status": "ok",
     "timestamp": 1608974681417,
     "user": {
      "displayName": "Swapnil Agarwal",
      "photoUrl": "https://lh3.googleusercontent.com/a-/AOh14GjiKjcRShCAT-GU-ZW-2Rxt41sd0aJyM6ME2xdqzno=s64",
      "userId": "08492220740212217759"
     },
     "user_tz": -330
    },
    "id": "aB9TVolwRkxR",
    "outputId": "f28ab1c0-aa32-4c0a-bd92-3fc0790594e5"
   },
   "outputs": [],
   "source": [
    "cm_rtg = books_with_ratings.groupby('book_title').book_rating.sum()\n",
    "cm_rtg = cm_rtg.sort_values(ascending=False)[:10]\n",
    "idx = cm_rtg.index.tolist() \n",
    "vals = cm_rtg.values.tolist() \n",
    "\n",
    "plt.figure(figsize=(10, 5))\n",
    "plt.rcParams.update({'font.size': 15})\n",
    "plt.bar(range(len(idx)), vals)\n",
    "plt.xticks(range(len(idx)), idx, rotation='vertical')\n",
    "plt.ylabel('cumulative rating score')\n",
    "plt.show()"
   ]
  },
  {
   "cell_type": "code",
   "execution_count": null,
   "metadata": {
    "colab": {
     "base_uri": "https://localhost:8080/"
    },
    "executionInfo": {
     "elapsed": 18496,
     "status": "ok",
     "timestamp": 1608974681418,
     "user": {
      "displayName": "Swapnil Agarwal",
      "photoUrl": "https://lh3.googleusercontent.com/a-/AOh14GjiKjcRShCAT-GU-ZW-2Rxt41sd0aJyM6ME2xdqzno=s64",
      "userId": "08492220740212217759"
     },
     "user_tz": -330
    },
    "id": "CZidZJWwRkxR",
    "outputId": "fba360f0-ace2-4b26-8f41-08b87c4f5ef2"
   },
   "outputs": [],
   "source": [
    "cutoff = books_with_ratings.book_title.value_counts()\n",
    "mean_rtg = books_with_ratings[books_with_ratings.book_title.isin(cutoff[cutoff>50].index)].groupby('book_title')['book_rating'].mean()\n",
    "mean_rtg.sort_values(ascending=False)[:10] # show only top 10"
   ]
  },
  {
   "cell_type": "code",
   "execution_count": null,
   "metadata": {
    "colab": {
     "base_uri": "https://localhost:8080/"
    },
    "executionInfo": {
     "elapsed": 18485,
     "status": "ok",
     "timestamp": 1608974681420,
     "user": {
      "displayName": "Swapnil Agarwal",
      "photoUrl": "https://lh3.googleusercontent.com/a-/AOh14GjiKjcRShCAT-GU-ZW-2Rxt41sd0aJyM6ME2xdqzno=s64",
      "userId": "08492220740212217759"
     },
     "user_tz": -330
    },
    "id": "FYC0JO9-RkxS",
    "outputId": "f4de937d-4579-4dd0-d883-2325c547d36a"
   },
   "outputs": [],
   "source": [
    "mean_rtg.sort_values(ascending=False)[-10:] "
   ]
  },
  {
   "cell_type": "code",
   "execution_count": null,
   "metadata": {
    "colab": {
     "base_uri": "https://localhost:8080/"
    },
    "executionInfo": {
     "elapsed": 18477,
     "status": "ok",
     "timestamp": 1608974681421,
     "user": {
      "displayName": "Swapnil Agarwal",
      "photoUrl": "https://lh3.googleusercontent.com/a-/AOh14GjiKjcRShCAT-GU-ZW-2Rxt41sd0aJyM6ME2xdqzno=s64",
      "userId": "08492220740212217759"
     },
     "user_tz": -330
    },
    "id": "n2T4sGp9RkxS",
    "outputId": "51506a1d-5b07-460c-cbf2-1fcfbbc2323e"
   },
   "outputs": [],
   "source": [
    "books_with_ratings.groupby('book_title').isbn.nunique().sort_values(ascending=False)[:10]"
   ]
  },
  {
   "cell_type": "code",
   "execution_count": null,
   "metadata": {
    "colab": {
     "base_uri": "https://localhost:8080/"
    },
    "executionInfo": {
     "elapsed": 18470,
     "status": "ok",
     "timestamp": 1608974681422,
     "user": {
      "displayName": "Swapnil Agarwal",
      "photoUrl": "https://lh3.googleusercontent.com/a-/AOh14GjiKjcRShCAT-GU-ZW-2Rxt41sd0aJyM6ME2xdqzno=s64",
      "userId": "08492220740212217759"
     },
     "user_tz": -330
    },
    "id": "RjvAGdU4RkxT",
    "outputId": "8028f89f-a162-41a0-f53b-60dec6c6dad0"
   },
   "outputs": [],
   "source": [
    "multiple_isbns = books_with_ratings.groupby('book_title').isbn.nunique()\n",
    "multiple_isbns.value_counts()"
   ]
  },
  {
   "cell_type": "code",
   "execution_count": null,
   "metadata": {
    "id": "mdSS69CoRkxT"
   },
   "outputs": [],
   "source": [
    "has_mult_isbns = multiple_isbns.where(multiple_isbns>1)\n",
    "has_mult_isbns.dropna(inplace=True) "
   ]
  },
  {
   "cell_type": "code",
   "execution_count": null,
   "metadata": {
    "colab": {
     "base_uri": "https://localhost:8080/"
    },
    "executionInfo": {
     "elapsed": 18458,
     "status": "ok",
     "timestamp": 1608974681425,
     "user": {
      "displayName": "Swapnil Agarwal",
      "photoUrl": "https://lh3.googleusercontent.com/a-/AOh14GjiKjcRShCAT-GU-ZW-2Rxt41sd0aJyM6ME2xdqzno=s64",
      "userId": "08492220740212217759"
     },
     "user_tz": -330
    },
    "id": "xxqH5n_DRkxT",
    "outputId": "01490f47-144f-47e8-cc69-03a776cbb55e"
   },
   "outputs": [],
   "source": [
    "print(f'There are {len(has_mult_isbns)} book titles with multiple ISBN numbers which we will try to re-assign to a unique identifier')"
   ]
  },
  {
   "cell_type": "code",
   "execution_count": null,
   "metadata": {
    "colab": {
     "base_uri": "https://localhost:8080/"
    },
    "executionInfo": {
     "elapsed": 18442,
     "status": "ok",
     "timestamp": 1608974681426,
     "user": {
      "displayName": "Swapnil Agarwal",
      "photoUrl": "https://lh3.googleusercontent.com/a-/AOh14GjiKjcRShCAT-GU-ZW-2Rxt41sd0aJyM6ME2xdqzno=s64",
      "userId": "08492220740212217759"
     },
     "user_tz": -330
    },
    "id": "uWs8OZEJRkxT",
    "outputId": "180c14c4-6a35-461b-bb86-ee0f55f136c8"
   },
   "outputs": [],
   "source": [
    "has_mult_isbns['Jane Eyre']"
   ]
  },
  {
   "cell_type": "code",
   "execution_count": null,
   "metadata": {
    "id": "LUXv4-UJRkxU"
   },
   "outputs": [],
   "source": [
    "with open('multiple_isbn_dict.pickle', 'rb') as handle:\n",
    "    multiple_isbn_dict = pickle.load(handle)"
   ]
  },
  {
   "cell_type": "code",
   "execution_count": null,
   "metadata": {
    "colab": {
     "base_uri": "https://localhost:8080/"
    },
    "executionInfo": {
     "elapsed": 18411,
     "status": "ok",
     "timestamp": 1608974681430,
     "user": {
      "displayName": "Swapnil Agarwal",
      "photoUrl": "https://lh3.googleusercontent.com/a-/AOh14GjiKjcRShCAT-GU-ZW-2Rxt41sd0aJyM6ME2xdqzno=s64",
      "userId": "08492220740212217759"
     },
     "user_tz": -330
    },
    "id": "sUaubneJRkxV",
    "outputId": "eba32973-3f79-45b7-f4cf-cd9be6760e7f"
   },
   "outputs": [],
   "source": [
    "print(f'There are now {len(multiple_isbn_dict)} books in the ISBN dictionary that have multiple ISBN numbers')"
   ]
  },
  {
   "cell_type": "code",
   "execution_count": null,
   "metadata": {
    "colab": {
     "base_uri": "https://localhost:8080/"
    },
    "executionInfo": {
     "elapsed": 18394,
     "status": "ok",
     "timestamp": 1608974681431,
     "user": {
      "displayName": "Swapnil Agarwal",
      "photoUrl": "https://lh3.googleusercontent.com/a-/AOh14GjiKjcRShCAT-GU-ZW-2Rxt41sd0aJyM6ME2xdqzno=s64",
      "userId": "08492220740212217759"
     },
     "user_tz": -330
    },
    "id": "OqETchw7RkxV",
    "outputId": "fed0bd7b-0cf3-4db4-d80a-dea76ebee00e"
   },
   "outputs": [],
   "source": [
    "print(f'Length of Jane Eyre dict entry: {len(multiple_isbn_dict[\"Jane Eyre\"])}\\n')\n",
    "multiple_isbn_dict['Jane Eyre']"
   ]
  },
  {
   "cell_type": "code",
   "execution_count": null,
   "metadata": {
    "colab": {
     "base_uri": "https://localhost:8080/"
    },
    "executionInfo": {
     "elapsed": 25778,
     "status": "ok",
     "timestamp": 1608974688827,
     "user": {
      "displayName": "Swapnil Agarwal",
      "photoUrl": "https://lh3.googleusercontent.com/a-/AOh14GjiKjcRShCAT-GU-ZW-2Rxt41sd0aJyM6ME2xdqzno=s64",
      "userId": "08492220740212217759"
     },
     "user_tz": -330
    },
    "id": "LrZ3Q-GcRkxW",
    "outputId": "09aeb2c5-bd39-4635-b74c-5c86f2916b43"
   },
   "outputs": [],
   "source": [
    "def add_unique_isbn_col(df):\n",
    "    df['unique_isbn'] = df.apply(lambda row: multiple_isbn_dict[row.book_title][0] if row.book_title in multiple_isbn_dict.keys() else row.isbn, axis=1)\n",
    "    return df\n",
    "\n",
    "%time books_with_ratings = add_unique_isbn_col(books_with_ratings)"
   ]
  },
  {
   "cell_type": "code",
   "execution_count": null,
   "metadata": {
    "colab": {
     "base_uri": "https://localhost:8080/",
     "height": 195
    },
    "executionInfo": {
     "elapsed": 25765,
     "status": "ok",
     "timestamp": 1608974688829,
     "user": {
      "displayName": "Swapnil Agarwal",
      "photoUrl": "https://lh3.googleusercontent.com/a-/AOh14GjiKjcRShCAT-GU-ZW-2Rxt41sd0aJyM6ME2xdqzno=s64",
      "userId": "08492220740212217759"
     },
     "user_tz": -330
    },
    "id": "9SWW6xrXRkxW",
    "outputId": "e55f33d0-3895-4355-fe41-d90f8a6c61a9"
   },
   "outputs": [],
   "source": [
    "books_with_ratings.head()"
   ]
  },
  {
   "cell_type": "code",
   "execution_count": null,
   "metadata": {
    "colab": {
     "base_uri": "https://localhost:8080/",
     "height": 195
    },
    "executionInfo": {
     "elapsed": 25744,
     "status": "ok",
     "timestamp": 1608974688830,
     "user": {
      "displayName": "Swapnil Agarwal",
      "photoUrl": "https://lh3.googleusercontent.com/a-/AOh14GjiKjcRShCAT-GU-ZW-2Rxt41sd0aJyM6ME2xdqzno=s64",
      "userId": "08492220740212217759"
     },
     "user_tz": -330
    },
    "id": "MjH7rsGQRkxW",
    "outputId": "818d2e0e-4f92-47ee-97ed-ac28ebd60f5a"
   },
   "outputs": [],
   "source": [
    "books_with_ratings[books_with_ratings.book_title=='Jane Eyre'].head()"
   ]
  },
  {
   "cell_type": "code",
   "execution_count": null,
   "metadata": {
    "colab": {
     "base_uri": "https://localhost:8080/"
    },
    "executionInfo": {
     "elapsed": 27126,
     "status": "ok",
     "timestamp": 1608974690224,
     "user": {
      "displayName": "Swapnil Agarwal",
      "photoUrl": "https://lh3.googleusercontent.com/a-/AOh14GjiKjcRShCAT-GU-ZW-2Rxt41sd0aJyM6ME2xdqzno=s64",
      "userId": "08492220740212217759"
     },
     "user_tz": -330
    },
    "id": "oa7tYuZgRkxX",
    "outputId": "f5626f1a-29ba-464b-c183-34287c0fc992"
   },
   "outputs": [],
   "source": [
    "print(f'Books+Ratings table size: {len(books_with_ratings)}')\n",
    "print(f'Users table size: {len(users)}')\n",
    "books_users_ratings = books_with_ratings.join(users.set_index('user_id'), on='user_id')\n",
    "print(f'New \"books_users_ratings\" table size: {len(books_users_ratings)}')"
   ]
  },
  {
   "cell_type": "markdown",
   "metadata": {
    "id": "pn7mqlRZRkxX"
   },
   "source": [
    "Inspect the new table."
   ]
  },
  {
   "cell_type": "code",
   "execution_count": null,
   "metadata": {
    "colab": {
     "base_uri": "https://localhost:8080/",
     "height": 262
    },
    "executionInfo": {
     "elapsed": 27114,
     "status": "ok",
     "timestamp": 1608974690226,
     "user": {
      "displayName": "Swapnil Agarwal",
      "photoUrl": "https://lh3.googleusercontent.com/a-/AOh14GjiKjcRShCAT-GU-ZW-2Rxt41sd0aJyM6ME2xdqzno=s64",
      "userId": "08492220740212217759"
     },
     "user_tz": -330
    },
    "id": "HnhNwiJPRkxX",
    "outputId": "2ab7e88a-0ae1-44b0-fec4-bd7b66b99f42"
   },
   "outputs": [],
   "source": [
    "books_users_ratings.head()"
   ]
  },
  {
   "cell_type": "code",
   "execution_count": null,
   "metadata": {
    "colab": {
     "base_uri": "https://localhost:8080/"
    },
    "executionInfo": {
     "elapsed": 27103,
     "status": "ok",
     "timestamp": 1608974690228,
     "user": {
      "displayName": "Swapnil Agarwal",
      "photoUrl": "https://lh3.googleusercontent.com/a-/AOh14GjiKjcRShCAT-GU-ZW-2Rxt41sd0aJyM6ME2xdqzno=s64",
      "userId": "08492220740212217759"
     },
     "user_tz": -330
    },
    "id": "mWq_rWb2RkxY",
    "outputId": "371ce294-67d1-48f5-aa1c-e41192f929fa"
   },
   "outputs": [],
   "source": [
    "books_users_ratings.info()\n",
    "\n",
    "books_users_ratings = books_users_ratings[:20000]"
   ]
  },
  {
   "cell_type": "code",
   "execution_count": null,
   "metadata": {
    "colab": {
     "base_uri": "https://localhost:8080/"
    },
    "executionInfo": {
     "elapsed": 27086,
     "status": "ok",
     "timestamp": 1608974690229,
     "user": {
      "displayName": "Swapnil Agarwal",
      "photoUrl": "https://lh3.googleusercontent.com/a-/AOh14GjiKjcRShCAT-GU-ZW-2Rxt41sd0aJyM6ME2xdqzno=s64",
      "userId": "08492220740212217759"
     },
     "user_tz": -330
    },
    "id": "F7CE52QZRkxY",
    "outputId": "fa013c1e-ae82-43a5-b2bd-823e86154272"
   },
   "outputs": [],
   "source": [
    "books_users_ratings.shape"
   ]
  },
  {
   "cell_type": "code",
   "execution_count": null,
   "metadata": {
    "colab": {
     "base_uri": "https://localhost:8080/",
     "height": 195
    },
    "executionInfo": {
     "elapsed": 27075,
     "status": "ok",
     "timestamp": 1608974690233,
     "user": {
      "displayName": "Swapnil Agarwal",
      "photoUrl": "https://lh3.googleusercontent.com/a-/AOh14GjiKjcRShCAT-GU-ZW-2Rxt41sd0aJyM6ME2xdqzno=s64",
      "userId": "08492220740212217759"
     },
     "user_tz": -330
    },
    "id": "f15BxfWZRkxZ",
    "outputId": "c9b2d11c-04a9-4268-c0d0-bf995fa0f935"
   },
   "outputs": [],
   "source": [
    "user_item_rating = books_users_ratings[['user_id', 'unique_isbn', 'book_rating']]\n",
    "user_item_rating.head()"
   ]
  },
  {
   "cell_type": "code",
   "execution_count": null,
   "metadata": {
    "colab": {
     "base_uri": "https://localhost:8080/",
     "height": 341
    },
    "executionInfo": {
     "elapsed": 27059,
     "status": "ok",
     "timestamp": 1608974690234,
     "user": {
      "displayName": "Swapnil Agarwal",
      "photoUrl": "https://lh3.googleusercontent.com/a-/AOh14GjiKjcRShCAT-GU-ZW-2Rxt41sd0aJyM6ME2xdqzno=s64",
      "userId": "08492220740212217759"
     },
     "user_tz": -330
    },
    "id": "fpHyEywXRkxZ",
    "outputId": "3834350d-ad34-43fc-9558-0d7e573894ee"
   },
   "outputs": [],
   "source": [
    "rtg = user_item_rating.book_rating.value_counts().sort_index()\n",
    "\n",
    "plt.figure(figsize=(10, 5))\n",
    "plt.rcParams.update({'font.size': 15}) \n",
    "plt.bar(rtg.index, rtg.values)\n",
    "plt.xlabel('Rating')\n",
    "plt.ylabel('counts')\n",
    "plt.show()"
   ]
  },
  {
   "cell_type": "markdown",
   "metadata": {
    "id": "lSDG-r9sRkxZ"
   },
   "source": [
    "Looks perfect! Continue."
   ]
  },
  {
   "cell_type": "code",
   "execution_count": null,
   "metadata": {
    "id": "4J4fcth-Rkxa"
   },
   "outputs": [],
   "source": [
    "from sklearn import model_selection\n",
    "train_data, test_data = model_selection.train_test_split(user_item_rating, test_size=0.20)"
   ]
  },
  {
   "cell_type": "code",
   "execution_count": null,
   "metadata": {
    "colab": {
     "base_uri": "https://localhost:8080/"
    },
    "executionInfo": {
     "elapsed": 27037,
     "status": "ok",
     "timestamp": 1608974690237,
     "user": {
      "displayName": "Swapnil Agarwal",
      "photoUrl": "https://lh3.googleusercontent.com/a-/AOh14GjiKjcRShCAT-GU-ZW-2Rxt41sd0aJyM6ME2xdqzno=s64",
      "userId": "08492220740212217759"
     },
     "user_tz": -330
    },
    "id": "t8M4BA1JRkxa",
    "outputId": "43301942-0b7c-44a2-91a4-b8a50409b467"
   },
   "outputs": [],
   "source": [
    "print(f'Training set size: {len(train_data)}')\n",
    "print(f'Testing set size: {len(test_data)}')\n",
    "print(f'Test set is {(len(test_data)/(len(train_data)+len(test_data))*100):.0f}% of the full dataset.')"
   ]
  },
  {
   "cell_type": "code",
   "execution_count": null,
   "metadata": {
    "id": "KKZfdECsRkxa"
   },
   "outputs": [],
   "source": [
    "u_unique_train = train_data.user_id.unique()  \n",
    "train_data_user2idx = {o:i for i, o in enumerate(u_unique_train)}\n",
    "\n",
    "b_unique_train = train_data.unique_isbn.unique() \n",
    "train_data_book2idx = {o:i for i, o in enumerate(b_unique_train)}\n",
    "\n",
    "\n",
    "u_unique_test = test_data.user_id.unique() \n",
    "test_data_user2idx = {o:i for i, o in enumerate(u_unique_test)}\n",
    "\n",
    "b_unique_test = test_data.unique_isbn.unique()  \n",
    "test_data_book2idx = {o:i for i, o in enumerate(b_unique_test)}"
   ]
  },
  {
   "cell_type": "code",
   "execution_count": null,
   "metadata": {
    "id": "XWxB4VJ-Rkxb"
   },
   "outputs": [],
   "source": [
    "\n",
    "train_data['u_unique'] = train_data['user_id'].map(train_data_user2idx)\n",
    "train_data['b_unique'] = train_data['unique_isbn'].map(train_data_book2idx)\n",
    "\n",
    "\n",
    "test_data['u_unique'] = test_data['user_id'].map(test_data_user2idx)\n",
    "test_data['b_unique'] = test_data['unique_isbn'].map(test_data_book2idx)\n",
    "\n",
    "\n",
    "train_data = train_data[['u_unique', 'b_unique', 'book_rating']]\n",
    "test_data = test_data[['u_unique', 'b_unique', 'book_rating']]"
   ]
  },
  {
   "cell_type": "code",
   "execution_count": null,
   "metadata": {
    "colab": {
     "base_uri": "https://localhost:8080/",
     "height": 195
    },
    "executionInfo": {
     "elapsed": 27012,
     "status": "ok",
     "timestamp": 1608974690240,
     "user": {
      "displayName": "Swapnil Agarwal",
      "photoUrl": "https://lh3.googleusercontent.com/a-/AOh14GjiKjcRShCAT-GU-ZW-2Rxt41sd0aJyM6ME2xdqzno=s64",
      "userId": "08492220740212217759"
     },
     "user_tz": -330
    },
    "id": "6ryrN64wRkxb",
    "outputId": "3ae9e8f1-b056-40ad-8838-4dbfd06a1e7a"
   },
   "outputs": [],
   "source": [
    "train_data.tail()"
   ]
  },
  {
   "cell_type": "code",
   "execution_count": null,
   "metadata": {
    "colab": {
     "base_uri": "https://localhost:8080/"
    },
    "executionInfo": {
     "elapsed": 26997,
     "status": "ok",
     "timestamp": 1608974690241,
     "user": {
      "displayName": "Swapnil Agarwal",
      "photoUrl": "https://lh3.googleusercontent.com/a-/AOh14GjiKjcRShCAT-GU-ZW-2Rxt41sd0aJyM6ME2xdqzno=s64",
      "userId": "08492220740212217759"
     },
     "user_tz": -330
    },
    "id": "0J0qr2nfRkxb",
    "outputId": "a9402087-ad58-4345-94bc-63451493c844"
   },
   "outputs": [],
   "source": [
    "train_data.dtypes"
   ]
  },
  {
   "cell_type": "code",
   "execution_count": null,
   "metadata": {
    "id": "hPb3dJu8Rkxc"
   },
   "outputs": [],
   "source": [
    "n_users = train_data['u_unique'].nunique()\n",
    "n_books = train_data['b_unique'].nunique()\n",
    "\n",
    "\n",
    "train_matrix = np.zeros((n_users, n_books))\n",
    "\n",
    "\n",
    "for entry in train_data.itertuples(): \n",
    "    train_matrix[entry[1]-1, entry[2]-1] = entry[3] "
   ]
  },
  {
   "cell_type": "code",
   "execution_count": null,
   "metadata": {
    "colab": {
     "base_uri": "https://localhost:8080/"
    },
    "executionInfo": {
     "elapsed": 27377,
     "status": "ok",
     "timestamp": 1608974690642,
     "user": {
      "displayName": "Swapnil Agarwal",
      "photoUrl": "https://lh3.googleusercontent.com/a-/AOh14GjiKjcRShCAT-GU-ZW-2Rxt41sd0aJyM6ME2xdqzno=s64",
      "userId": "08492220740212217759"
     },
     "user_tz": -330
    },
    "id": "Oxp2prM-Rkxc",
    "outputId": "2e3cee60-a882-4452-eead-8541898e24e2"
   },
   "outputs": [],
   "source": [
    "train_matrix.shape"
   ]
  },
  {
   "cell_type": "code",
   "execution_count": null,
   "metadata": {
    "id": "gZwyEy7tRkxc"
   },
   "outputs": [],
   "source": [
    "n_users = test_data['u_unique'].nunique()\n",
    "n_books = test_data['b_unique'].nunique()\n",
    "\n",
    "\n",
    "test_matrix = np.zeros((n_users, n_books))\n",
    "\n",
    "\n",
    "for entry in test_data.itertuples(): \n",
    "    test_matrix[entry[1]-1, entry[2]-1] = entry[3] "
   ]
  },
  {
   "cell_type": "code",
   "execution_count": null,
   "metadata": {
    "colab": {
     "base_uri": "https://localhost:8080/"
    },
    "executionInfo": {
     "elapsed": 27359,
     "status": "ok",
     "timestamp": 1608974690643,
     "user": {
      "displayName": "Swapnil Agarwal",
      "photoUrl": "https://lh3.googleusercontent.com/a-/AOh14GjiKjcRShCAT-GU-ZW-2Rxt41sd0aJyM6ME2xdqzno=s64",
      "userId": "08492220740212217759"
     },
     "user_tz": -330
    },
    "id": "yOxJNoDXRkxc",
    "outputId": "5fc0309b-715d-4876-e6b4-bad8cadbfb6b"
   },
   "outputs": [],
   "source": [
    "test_matrix.shape"
   ]
  },
  {
   "cell_type": "code",
   "execution_count": null,
   "metadata": {
    "id": "PsTkaYVyRkxd"
   },
   "outputs": [],
   "source": [
    "\n",
    "train_matrix_small = train_matrix[:10000, :10000]\n",
    "test_matrix_small = test_matrix[:10000, :10000]\n",
    "\n",
    "from sklearn.metrics.pairwise import pairwise_distances\n",
    "user_similarity = pairwise_distances(train_matrix_small, metric='cosine')\n",
    "item_similarity = pairwise_distances(train_matrix_small.T, metric='cosine') "
   ]
  },
  {
   "cell_type": "code",
   "execution_count": null,
   "metadata": {
    "id": "flRLzU_TRkxd"
   },
   "outputs": [],
   "source": [
    "def predict(ratings, similarity, type='user'): \n",
    "    if type == 'user':\n",
    "        mean_user_rating = ratings.mean(axis=1)\n",
    "        \n",
    "        ratings_diff = (ratings - mean_user_rating[:, np.newaxis])\n",
    "        pred = mean_user_rating[:, np.newaxis] + similarity.dot(ratings_diff) / np.array([np.abs(similarity).sum(axis=1)]).T\n",
    "    elif type == 'item':\n",
    "        pred = ratings.dot(similarity) / np.array([np.abs(similarity).sum(axis=1)])\n",
    "    return pred"
   ]
  },
  {
   "cell_type": "code",
   "execution_count": null,
   "metadata": {
    "id": "qk1ZMjswRkxe"
   },
   "outputs": [],
   "source": [
    "item_prediction = predict(train_matrix_small, item_similarity, type='item')\n",
    "user_prediction = predict(train_matrix_small, user_similarity, type='user')"
   ]
  },
  {
   "cell_type": "code",
   "execution_count": null,
   "metadata": {
    "colab": {
     "base_uri": "https://localhost:8080/"
    },
    "executionInfo": {
     "elapsed": 67025,
     "status": "ok",
     "timestamp": 1608974730351,
     "user": {
      "displayName": "Swapnil Agarwal",
      "photoUrl": "https://lh3.googleusercontent.com/a-/AOh14GjiKjcRShCAT-GU-ZW-2Rxt41sd0aJyM6ME2xdqzno=s64",
      "userId": "08492220740212217759"
     },
     "user_tz": -330
    },
    "id": "Z7CcbM7_Rkxe",
    "outputId": "906769de-ae70-451b-ff5a-0e0278a603f9"
   },
   "outputs": [],
   "source": [
    "from sklearn.metrics import mean_squared_error\n",
    "from math import sqrt\n",
    "\n",
    "def rmse(prediction, test_matrix):\n",
    "    prediction = prediction[test_matrix.nonzero()].flatten()\n",
    "    test_matrix = test_matrix[test_matrix.nonzero()].flatten()\n",
    "    return sqrt(mean_squared_error(prediction, test_matrix))\n",
    "\n",
    "\n",
    "print(f'User-based CF RMSE: {rmse(user_prediction, test_matrix_small)}')\n",
    "print(f'Item-based CF RMSE: {rmse(item_prediction, test_matrix_small)}')"
   ]
  },
  {
   "cell_type": "code",
   "execution_count": null,
   "metadata": {
    "id": "Zb9Hpe6ppPRD"
   },
   "outputs": [],
   "source": []
  },
  {
   "cell_type": "code",
   "execution_count": null,
   "metadata": {
    "id": "ixqImTA_Rkxf"
   },
   "outputs": [],
   "source": [
    "from surprise import Reader, Dataset"
   ]
  },
  {
   "cell_type": "code",
   "execution_count": null,
   "metadata": {
    "colab": {
     "base_uri": "https://localhost:8080/",
     "height": 195
    },
    "executionInfo": {
     "elapsed": 67003,
     "status": "ok",
     "timestamp": 1608974730355,
     "user": {
      "displayName": "Swapnil Agarwal",
      "photoUrl": "https://lh3.googleusercontent.com/a-/AOh14GjiKjcRShCAT-GU-ZW-2Rxt41sd0aJyM6ME2xdqzno=s64",
      "userId": "08492220740212217759"
     },
     "user_tz": -330
    },
    "id": "uO-yMsU1Rkxf",
    "outputId": "72173ca2-07d1-498e-86ca-256334cf2766"
   },
   "outputs": [],
   "source": [
    "user_item_rating.head() # take a look at our data"
   ]
  },
  {
   "cell_type": "code",
   "execution_count": null,
   "metadata": {
    "id": "2bUix5WtRkxf"
   },
   "outputs": [],
   "source": [
    "reader = Reader(rating_scale=(1, 10))\n",
    "\n",
    "data = Dataset.load_from_df(user_item_rating, reader)"
   ]
  },
  {
   "cell_type": "code",
   "execution_count": null,
   "metadata": {
    "id": "6D-rmlTLRkxf"
   },
   "outputs": [],
   "source": [
    "from surprise import SVD, NMF, model_selection, accuracy"
   ]
  },
  {
   "cell_type": "markdown",
   "metadata": {
    "id": "08d_WAeJRkxg"
   },
   "source": [
    "### SVD model"
   ]
  },
  {
   "cell_type": "code",
   "execution_count": null,
   "metadata": {
    "colab": {
     "base_uri": "https://localhost:8080/"
    },
    "executionInfo": {
     "elapsed": 73178,
     "status": "ok",
     "timestamp": 1608974736561,
     "user": {
      "displayName": "Swapnil Agarwal",
      "photoUrl": "https://lh3.googleusercontent.com/a-/AOh14GjiKjcRShCAT-GU-ZW-2Rxt41sd0aJyM6ME2xdqzno=s64",
      "userId": "08492220740212217759"
     },
     "user_tz": -330
    },
    "id": "wdDTX05MRkxh",
    "outputId": "c33ef2ac-7173-4d78-c505-4c8cbdbc81d2"
   },
   "outputs": [],
   "source": [
    "model = SVD()\n",
    "\n",
    "\n",
    "%time model_selection.cross_validate(model, data, measures=['RMSE'], cv=5, verbose=True)"
   ]
  },
  {
   "cell_type": "code",
   "execution_count": null,
   "metadata": {
    "colab": {
     "base_uri": "https://localhost:8080/"
    },
    "executionInfo": {
     "elapsed": 74518,
     "status": "ok",
     "timestamp": 1608974737910,
     "user": {
      "displayName": "Swapnil Agarwal",
      "photoUrl": "https://lh3.googleusercontent.com/a-/AOh14GjiKjcRShCAT-GU-ZW-2Rxt41sd0aJyM6ME2xdqzno=s64",
      "userId": "08492220740212217759"
     },
     "user_tz": -330
    },
    "id": "cTYhTZgARkxh",
    "outputId": "bae345a6-a559-44d7-90cc-da11b2e0e370"
   },
   "outputs": [],
   "source": [
    "trainset, testset = model_selection.train_test_split(data, test_size=0.2)\n",
    "\n",
    "model = SVD()\n",
    "\n",
    "model.fit(trainset)\n",
    "predictions = model.test(testset)\n",
    "\n",
    "accuracy.rmse(predictions)"
   ]
  },
  {
   "cell_type": "markdown",
   "metadata": {
    "id": "S47PCR8SRkxi"
   },
   "source": [
    "### NMF model"
   ]
  },
  {
   "cell_type": "code",
   "execution_count": null,
   "metadata": {
    "colab": {
     "base_uri": "https://localhost:8080/"
    },
    "executionInfo": {
     "elapsed": 86396,
     "status": "ok",
     "timestamp": 1608974749795,
     "user": {
      "displayName": "Swapnil Agarwal",
      "photoUrl": "https://lh3.googleusercontent.com/a-/AOh14GjiKjcRShCAT-GU-ZW-2Rxt41sd0aJyM6ME2xdqzno=s64",
      "userId": "08492220740212217759"
     },
     "user_tz": -330
    },
    "id": "g1QJqXC1Rkxi",
    "outputId": "45d91da5-e181-43d7-e840-5e2301699666"
   },
   "outputs": [],
   "source": [
    "model = NMF()\n",
    "\n",
    "%time model_selection.cross_validate(model, data, measures=['RMSE'], cv=5, verbose=True)"
   ]
  },
  {
   "cell_type": "code",
   "execution_count": null,
   "metadata": {
    "id": "-GRO2P6eRkxi"
   },
   "outputs": [],
   "source": [
    "trainset, testset = model_selection.train_test_split(data, test_size=0.2)"
   ]
  },
  {
   "cell_type": "code",
   "execution_count": null,
   "metadata": {
    "id": "4oOJF7kURkxi"
   },
   "outputs": [],
   "source": [
    "from surprise.model_selection import GridSearchCV\n",
    "\n",
    "param_grid = {'n_factors': [80, 100, 120], 'lr_all': [0.001, 0.005, 0.01], 'reg_all': [0.01, 0.02, 0.04]}\n",
    "\n",
    "gs = GridSearchCV(SVD, param_grid, measures=['rmse', 'mae'], cv=3)"
   ]
  },
  {
   "cell_type": "code",
   "execution_count": null,
   "metadata": {
    "colab": {
     "base_uri": "https://localhost:8080/"
    },
    "executionInfo": {
     "elapsed": 165873,
     "status": "ok",
     "timestamp": 1608974829297,
     "user": {
      "displayName": "Swapnil Agarwal",
      "photoUrl": "https://lh3.googleusercontent.com/a-/AOh14GjiKjcRShCAT-GU-ZW-2Rxt41sd0aJyM6ME2xdqzno=s64",
      "userId": "08492220740212217759"
     },
     "user_tz": -330
    },
    "id": "6SVmsOqlRkxj",
    "outputId": "ce4bf1e5-b2a7-476e-e74b-5c5d4f29fbeb"
   },
   "outputs": [],
   "source": [
    "%time gs.fit(data)"
   ]
  },
  {
   "cell_type": "code",
   "execution_count": null,
   "metadata": {
    "colab": {
     "base_uri": "https://localhost:8080/"
    },
    "executionInfo": {
     "elapsed": 165869,
     "status": "ok",
     "timestamp": 1608974829300,
     "user": {
      "displayName": "Swapnil Agarwal",
      "photoUrl": "https://lh3.googleusercontent.com/a-/AOh14GjiKjcRShCAT-GU-ZW-2Rxt41sd0aJyM6ME2xdqzno=s64",
      "userId": "08492220740212217759"
     },
     "user_tz": -330
    },
    "id": "XQWAqcDnRkxj",
    "outputId": "5b453dc2-2a19-4679-af2a-d1bbe4d045f3"
   },
   "outputs": [],
   "source": [
    "model = gs.best_estimator['rmse']\n",
    "\n",
    "print(gs.best_score['rmse'])\n",
    "print(gs.best_params['rmse'])"
   ]
  },
  {
   "cell_type": "code",
   "execution_count": null,
   "metadata": {
    "colab": {
     "base_uri": "https://localhost:8080/"
    },
    "executionInfo": {
     "elapsed": 172758,
     "status": "ok",
     "timestamp": 1608974836197,
     "user": {
      "displayName": "Swapnil Agarwal",
      "photoUrl": "https://lh3.googleusercontent.com/a-/AOh14GjiKjcRShCAT-GU-ZW-2Rxt41sd0aJyM6ME2xdqzno=s64",
      "userId": "08492220740212217759"
     },
     "user_tz": -330
    },
    "id": "HqU2XnKSRkxj",
    "outputId": "fce1398e-3243-43cb-fabe-dea75b2faa9f"
   },
   "outputs": [],
   "source": [
    "model_selection.cross_validate(model, data, measures=['rmse', 'mae'], cv=5, verbose=True)"
   ]
  },
  {
   "cell_type": "code",
   "execution_count": null,
   "metadata": {
    "colab": {
     "base_uri": "https://localhost:8080/"
    },
    "executionInfo": {
     "elapsed": 173473,
     "status": "ok",
     "timestamp": 1608974836919,
     "user": {
      "displayName": "Swapnil Agarwal",
      "photoUrl": "https://lh3.googleusercontent.com/a-/AOh14GjiKjcRShCAT-GU-ZW-2Rxt41sd0aJyM6ME2xdqzno=s64",
      "userId": "08492220740212217759"
     },
     "user_tz": -330
    },
    "id": "yiCPbnB_Rkxj",
    "outputId": "adf3eec5-3428-4a36-e499-bc9b60dbc029"
   },
   "outputs": [],
   "source": [
    "model = SVD(n_factors=80, lr_all=0.005, reg_all=0.04)\n",
    "model.fit(trainset) \n",
    "test_pred = model.test(testset)\n",
    "print(\"SVD : Test Set\")\n",
    "accuracy.rmse(test_pred, verbose=True)"
   ]
  },
  {
   "cell_type": "code",
   "execution_count": null,
   "metadata": {
    "colab": {
     "base_uri": "https://localhost:8080/"
    },
    "executionInfo": {
     "elapsed": 173467,
     "status": "ok",
     "timestamp": 1608974836921,
     "user": {
      "displayName": "Swapnil Agarwal",
      "photoUrl": "https://lh3.googleusercontent.com/a-/AOh14GjiKjcRShCAT-GU-ZW-2Rxt41sd0aJyM6ME2xdqzno=s64",
      "userId": "08492220740212217759"
     },
     "user_tz": -330
    },
    "id": "NA2RL2BlRkxk",
    "outputId": "91e768ef-e762-4cff-ef36-0e72d24af4a9"
   },
   "outputs": [],
   "source": [
    "\n",
    "uid = 276744  \n",
    "iid = '038550120X' \n",
    "\n",
    "pred = model.predict(uid, iid, verbose=True)"
   ]
  },
  {
   "cell_type": "code",
   "execution_count": null,
   "metadata": {
    "colab": {
     "base_uri": "https://localhost:8080/"
    },
    "executionInfo": {
     "elapsed": 173461,
     "status": "ok",
     "timestamp": 1608974836922,
     "user": {
      "displayName": "Swapnil Agarwal",
      "photoUrl": "https://lh3.googleusercontent.com/a-/AOh14GjiKjcRShCAT-GU-ZW-2Rxt41sd0aJyM6ME2xdqzno=s64",
      "userId": "08492220740212217759"
     },
     "user_tz": -330
    },
    "id": "DJBXAytHRkxk",
    "outputId": "f10b3fd3-dbbf-4478-8491-bf27544f1bc2"
   },
   "outputs": [],
   "source": [
    "print(f'The estimated rating for the book with the \"unique_isbn\" code {pred.iid} from user #{pred.uid} is {pred.est:.2f}.\\n')\n",
    "actual_rtg = user_item_rating[(user_item_rating.user_id==pred.uid) & (user_item_rating.unique_isbn==pred.iid)].book_rating.values[0]\n",
    "print(f'The real rating given for this was {actual_rtg:.2f}.')"
   ]
  },
  {
   "cell_type": "code",
   "execution_count": null,
   "metadata": {
    "id": "bWmmMe_iRkxl"
   },
   "outputs": [],
   "source": [
    "from collections import defaultdict\n",
    "\n",
    "def get_top_n(predictions, n=10):\n",
    "\n",
    "    top_n = defaultdict(list)\n",
    "    for uid, iid, true_r, est, _ in predictions:\n",
    "        top_n[uid].append((iid, est))\n",
    "\n",
    "    for uid, user_ratings in top_n.items():\n",
    "        user_ratings.sort(key=lambda x: x[1], reverse=True)\n",
    "        top_n[uid] = user_ratings[:n]\n",
    "        \n",
    "    return top_n"
   ]
  },
  {
   "cell_type": "code",
   "execution_count": null,
   "metadata": {
    "id": "9qaZ5aJpRkxl"
   },
   "outputs": [],
   "source": [
    "pred = model.test(testset)\n",
    "top_n = get_top_n(pred)"
   ]
  },
  {
   "cell_type": "code",
   "execution_count": null,
   "metadata": {
    "id": "Sg8W5JwuRkxl"
   },
   "outputs": [],
   "source": [
    "def get_reading_list(userid):\n",
    "    \"\"\"\n",
    "    Retrieve full book titles from full 'books_users_ratings' dataframe\n",
    "    \"\"\"\n",
    "    reading_list = defaultdict(list)\n",
    "    top_n = get_top_n(predictions, n=10)\n",
    "    for n in top_n[userid]:\n",
    "        book, rating = n\n",
    "        title = books_users_ratings.loc[books_users_ratings.unique_isbn==book].book_title.unique()[0]\n",
    "        reading_list[title] = rating\n",
    "    return reading_list"
   ]
  },
  {
   "cell_type": "code",
   "execution_count": null,
   "metadata": {
    "colab": {
     "base_uri": "https://localhost:8080/"
    },
    "executionInfo": {
     "elapsed": 173432,
     "status": "ok",
     "timestamp": 1608974836925,
     "user": {
      "displayName": "Swapnil Agarwal",
      "photoUrl": "https://lh3.googleusercontent.com/a-/AOh14GjiKjcRShCAT-GU-ZW-2Rxt41sd0aJyM6ME2xdqzno=s64",
      "userId": "08492220740212217759"
     },
     "user_tz": -330
    },
    "id": "vghrwvY4Rkxl",
    "outputId": "2804cf7a-0cae-4750-a3af-2aea30fb1409",
    "scrolled": true
   },
   "outputs": [],
   "source": [
    "example_reading_list = get_reading_list(userid=6251)\n",
    "print(\"Recommended books are:\")\n",
    "for book, rating in example_reading_list.items():\n",
    "    print(f'{book}: {rating}')"
   ]
  }
 ],
 "metadata": {
  "colab": {
   "name": "Book-Crossing-Recommender.ipynb",
   "provenance": []
  },
  "kernelspec": {
   "display_name": "Python 3",
   "language": "python",
   "name": "python3"
  },
  "language_info": {
   "codemirror_mode": {
    "name": "ipython",
    "version": 3
   },
   "file_extension": ".py",
   "mimetype": "text/x-python",
   "name": "python",
   "nbconvert_exporter": "python",
   "pygments_lexer": "ipython3",
   "version": "3.7.6"
  }
 },
 "nbformat": 4,
 "nbformat_minor": 1
}
