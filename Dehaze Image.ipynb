{
 "cells": [
  {
   "cell_type": "markdown",
   "metadata": {},
   "source": [
    "# Dehaze Algorithm Implementation"
   ]
  },
  {
   "cell_type": "raw",
   "metadata": {},
   "source": [
    "This program uses algorithms to dehaze an image and displaying it\n",
    "\n",
    "1. You have to provide location of the image which you want to process.\n",
    "2. Provide the location of Folder or Desktop where you want to save the processed video (For Ex: C:/Users/Desktop/Haze_test.jpg)\n",
    "3. Click 'Esc' to terminate the window.\n",
    "\n",
    "NOTE: This code is completely based on CV library and does not use any ML models.\n",
    "      Provide locations of files correctly."
   ]
  },
  {
   "cell_type": "code",
   "execution_count": 1,
   "metadata": {},
   "outputs": [],
   "source": [
    "import cv2\n",
    "import math\n",
    "import numpy as np\n",
    "\n",
    "\n",
    "def DarkChannel(im,sz):\n",
    "    b,g,r = cv2.split(im)\n",
    "    dc = cv2.min(cv2.min(r,g),b)\n",
    "    kernel = cv2.getStructuringElement(cv2.MORPH_RECT,(sz,sz))\n",
    "    dark = cv2.erode(dc,kernel)\n",
    "    return dark\n",
    "\n",
    "def AtmLight(im,dark):\n",
    "    [h,w] = im.shape[:2]\n",
    "    imsz = h*w\n",
    "    numpx = int(max(math.floor(imsz/1000),1))\n",
    "    darkvec = dark.reshape(imsz,1);\n",
    "    imvec = im.reshape(imsz,3);\n",
    "\n",
    "    indices = darkvec.argsort();\n",
    "    indices = indices[imsz-numpx::]\n",
    "\n",
    "    atmsum = np.zeros([1,3])\n",
    "    for ind in range(1,numpx):\n",
    "       atmsum = atmsum + imvec[indices[ind]]\n",
    "\n",
    "    A = atmsum / numpx;\n",
    "    return A\n",
    "\n",
    "def TransmissionEstimate(im,A,sz):\n",
    "    omega = 0.9;\n",
    "    im3 = np.empty(im.shape,im.dtype);\n",
    "\n",
    "    for ind in range(0,3):\n",
    "        im3[:,:,ind] = im[:,:,ind]/A[0,ind]\n",
    "\n",
    "    transmission = 1 - omega*DarkChannel(im3,sz);\n",
    "    return transmission\n",
    "\n",
    "def Guidedfilter(im,p,r,eps):\n",
    "    mean_I = cv2.boxFilter(im,cv2.CV_64F,(r,r));\n",
    "    mean_p = cv2.boxFilter(p, cv2.CV_64F,(r,r));\n",
    "    mean_Ip = cv2.boxFilter(im*p,cv2.CV_64F,(r,r));\n",
    "    cov_Ip = mean_Ip - mean_I*mean_p;\n",
    "\n",
    "    mean_II = cv2.boxFilter(im*im,cv2.CV_64F,(r,r));\n",
    "    var_I   = mean_II - mean_I*mean_I;\n",
    "\n",
    "    a = cov_Ip/(var_I + eps);\n",
    "    b = mean_p - a*mean_I;\n",
    "\n",
    "    mean_a = cv2.boxFilter(a,cv2.CV_64F,(r,r));\n",
    "    mean_b = cv2.boxFilter(b,cv2.CV_64F,(r,r));\n",
    "\n",
    "    q = mean_a*im + mean_b;\n",
    "    return q;\n",
    "\n",
    "def TransmissionRefine(im,et):\n",
    "    gray = cv2.cvtColor(im,cv2.COLOR_BGR2GRAY);\n",
    "    gray = np.float64(gray)/255;\n",
    "    r = 60;\n",
    "    eps = 0.0001;\n",
    "    t = Guidedfilter(gray,et,r,eps);\n",
    "\n",
    "    return t;\n",
    "\n",
    "def Recover(im,t,A,tx = 0.1):\n",
    "    res = np.empty(im.shape,im.dtype);\n",
    "    t = cv2.max(t,tx);\n",
    "\n",
    "    for ind in range(0,3):\n",
    "        res[:,:,ind] = (im[:,:,ind]-A[0,ind])/t + A[0,ind]\n",
    "\n",
    "    return res"
   ]
  },
  {
   "cell_type": "code",
   "execution_count": 2,
   "metadata": {},
   "outputs": [
    {
     "name": "stdout",
     "output_type": "stream",
     "text": [
      "(1242, 2000, 3)\n"
     ]
    }
   ],
   "source": [
    "Image = input('\\nEnter location of Image: ')\n",
    "Image_save = input('\\nEnter location to save Image: ')\n",
    "frame = cv2.imread(Image)\n",
    "print(np.shape(frame))\n",
    "frame = cv2.resize(frame, (600, 400))\n",
    "I = frame.astype('float64')/255;\n",
    "\n",
    " \n",
    "dark = DarkChannel(I,3);\n",
    "A = AtmLight(I,dark);\n",
    "te = TransmissionEstimate(I,A,3);\n",
    "t = TransmissionRefine(frame,te);\n",
    "J = Recover(I,t,A,0.4);\n",
    "    \n",
    "    \n",
    "cv2.imshow('HAZE',frame)\n",
    "cv2.imshow('Recovered',J)\n",
    "cv2.imwrite(Image_save, J)\n",
    "cv2.waitKey()\n",
    "cv2.destroyAllWindows()"
   ]
  },
  {
   "cell_type": "code",
   "execution_count": null,
   "metadata": {},
   "outputs": [],
   "source": [
    "for i in range(len(df.index)):\n",
    "    "
   ]
  },
  {
   "cell_type": "code",
   "execution_count": null,
   "metadata": {},
   "outputs": [],
   "source": []
  }
 ],
 "metadata": {
  "kernelspec": {
   "display_name": "Python 3",
   "language": "python",
   "name": "python3"
  },
  "language_info": {
   "codemirror_mode": {
    "name": "ipython",
    "version": 3
   },
   "file_extension": ".py",
   "mimetype": "text/x-python",
   "name": "python",
   "nbconvert_exporter": "python",
   "pygments_lexer": "ipython3",
   "version": "3.8.5"
  }
 },
 "nbformat": 4,
 "nbformat_minor": 4
}
